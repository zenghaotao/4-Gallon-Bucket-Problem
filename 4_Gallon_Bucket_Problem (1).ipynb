{
 "cells": [
  {
   "cell_type": "code",
   "execution_count": null,
   "id": "ec693cb5-e4dd-498f-9200-b88717918289",
   "metadata": {},
   "outputs": [],
   "source": [
    "#*****************************************************************************************\n",
    "# FILE: 4_Gallon_Bucket_Problem                                                          #\n",
    "#                                                                                        #\n",
    "# DESCRIPTION: The objective of this project is to develop a program that can solve the  #\n",
    "# problem of 2 kids fetching 4 gallons of water from a stream, using only an unmarked    #\n",
    "# 3-gallon bucket, and an unmarked 5-gallon bucket, in less than 15 steps.               #\n",
    "#                                                                                        #\n",
    "# DEVELOPER: Zenghao Tao                                                                 #\n",
    "# DEVELOPER PHONE: +1(626)677-6020                                                       #\n",
    "# DEVELOPER EMAIL: zeng628hao@gmail.com                                                  #\n",
    "#                                                                                        #\n",
    "# VERSION: 1.0                                                                           #\n",
    "# CREATED DATE-TIME: 20241210-2:00 PACIFIC STANDARD TIME                                 #\n",
    "#                                                                                        #\n",
    "#*****************************************************************************************"
   ]
  },
  {
   "cell_type": "code",
   "execution_count": 8,
   "id": "7dcc606e-a74b-4382-bc4b-b868c8f5ad82",
   "metadata": {},
   "outputs": [
    {
     "name": "stdout",
     "output_type": "stream",
     "text": [
      "('Fill 5-gallon', (0, 5))\n",
      "('Pour from 5-gallon to 3-gallon', (3, 2))\n",
      "('Empty 3-gallon', (0, 2))\n",
      "('Pour from 5-gallon to 3-gallon', (2, 0))\n",
      "('Fill 5-gallon', (2, 5))\n",
      "('Pour from 5-gallon to 3-gallon', (3, 4))\n"
     ]
    }
   ],
   "source": [
    "# Define the capacities of the two buckets\n",
    "bucket_3_gallon_capacity = 3\n",
    "bucket_5_gallon_capacity = 5\n",
    "\n",
    "# Goal amount of water we want to have in one of the buckets\n",
    "goal_amount = 4\n",
    "\n",
    "# Initial states of the buckets\n",
    "three_gallon_bucket = 0\n",
    "five_gallon_bucket = 0\n",
    "\n",
    "# List to keep track of the steps and states\n",
    "steps = []\n",
    "\n",
    "while True:\n",
    "    # Check if we have reached the goal state\n",
    "    if three_gallon_bucket == goal_amount or five_gallon_bucket == goal_amount:\n",
    "        if three_gallon_bucket != 4:\n",
    "            three_gallon_bucket == 0\n",
    "        steps.append((\"Empty out the other bucket\", (three_gallon_bucket, five_gallon_bucket)))\n",
    "        break\n",
    "\n",
    "    # Fill the 5-gallon bucket if it's empty\n",
    "    if five_gallon_bucket == 0:\n",
    "        five_gallon_bucket = bucket_5_gallon_capacity\n",
    "        steps.append((\"Fill 5-gallon\", (three_gallon_bucket, five_gallon_bucket)))\n",
    "        continue\n",
    "\n",
    "    # Pour from 5-gallon to 3-gallon bucket\n",
    "    if five_gallon_bucket > 0 and three_gallon_bucket < bucket_3_gallon_capacity:\n",
    "        amount_to_pour = min(five_gallon_bucket, bucket_3_gallon_capacity - three_gallon_bucket)\n",
    "        five_gallon_bucket -= amount_to_pour\n",
    "        three_gallon_bucket += amount_to_pour\n",
    "        steps.append((\"Pour from 5-gallon to 3-gallon\", (three_gallon_bucket, five_gallon_bucket)))\n",
    "        continue\n",
    "\n",
    "    # Empty the 3-gallon bucket if it's full\n",
    "    if three_gallon_bucket == bucket_3_gallon_capacity:\n",
    "        three_gallon_bucket = 0\n",
    "        steps.append((\"Empty 3-gallon\", (three_gallon_bucket, five_gallon_bucket)))\n",
    "        continue\n",
    "\n",
    "    # Fill the 3-gallon bucket if it's empty\n",
    "    if three_gallon_bucket == 0:\n",
    "        three_gallon_bucket = bucket_3_gallon_capacity\n",
    "        steps.append((\"Fill 3-gallon\", (three_gallon_bucket, five_gallon_bucket)))\n",
    "        continue\n",
    "\n",
    "    # Pour from 3-gallon to 5-gallon bucket\n",
    "    if three_gallon_bucket > 0 and five_gallon_bucket < bucket_5_gallon_capacity:\n",
    "        amount_to_pour = min(three_gallon_bucket, bucket_5_gallon_capacity - five_gallon_bucket)\n",
    "        three_gallon_bucket -= amount_to_pour\n",
    "        five_gallon_bucket += amount_to_pour\n",
    "        steps.append((\"Pour from 3-gallon to 5-gallon\", (three_gallon_bucket, five_gallon_bucket)))\n",
    "        continue\n",
    "\n",
    "    # Empty the 5-gallon bucket if it's full\n",
    "    if five_gallon_bucket == bucket_5_gallon_capacity:\n",
    "        five_gallon_bucket = 0\n",
    "        steps.append((\"Empty 5-gallon\", (three_gallon_bucket, five_gallon_bucket)))\n",
    "        continue\n",
    "\n",
    "# Print the steps taken to reach the goal\n",
    "for step in steps:\n",
    "    print(step)"
   ]
  },
  {
   "cell_type": "code",
   "execution_count": null,
   "id": "89d89808-5a88-4240-a138-3a91d985c022",
   "metadata": {},
   "outputs": [],
   "source": []
  }
 ],
 "metadata": {
  "kernelspec": {
   "display_name": "Python 3 (ipykernel)",
   "language": "python",
   "name": "python3"
  },
  "language_info": {
   "codemirror_mode": {
    "name": "ipython",
    "version": 3
   },
   "file_extension": ".py",
   "mimetype": "text/x-python",
   "name": "python",
   "nbconvert_exporter": "python",
   "pygments_lexer": "ipython3",
   "version": "3.11.7"
  }
 },
 "nbformat": 4,
 "nbformat_minor": 5
}
